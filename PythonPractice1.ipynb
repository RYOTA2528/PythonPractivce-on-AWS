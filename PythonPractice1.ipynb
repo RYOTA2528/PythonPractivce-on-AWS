{
  "nbformat": 4,
  "nbformat_minor": 0,
  "metadata": {
    "colab": {
      "name": "PythonPractice1.ipynb",
      "provenance": [],
      "collapsed_sections": [],
      "authorship_tag": "ABX9TyONEXUfcyx4UdO5558i5dH0",
      "include_colab_link": true
    },
    "kernelspec": {
      "name": "python3",
      "display_name": "Python 3"
    },
    "language_info": {
      "name": "python"
    }
  },
  "cells": [
    {
      "cell_type": "markdown",
      "metadata": {
        "id": "view-in-github",
        "colab_type": "text"
      },
      "source": [
        "<a href=\"https://colab.research.google.com/github/RYOTA2528/PythonPractivce-on-AWS/blob/main/PythonPractice1.ipynb\" target=\"_parent\"><img src=\"https://colab.research.google.com/assets/colab-badge.svg\" alt=\"Open In Colab\"/></a>"
      ]
    },
    {
      "cell_type": "markdown",
      "source": [
        "**【Python学習　初級編】**\n",
        "\n",
        "**（項目）**\n",
        "1. GoogleColaboratoryについての基礎学習,Pythonの概要理解,人工知能の概要理解,ニュートラルネットワーク概要理解\n",
        "2. GoogleColaboratory上でのコード記載方法・復習（マークダウン・変数・四則演算・Boot値と比較演算子・論理演算子）\n",
        "3. リスト・タプル・辞書について。appendコマンド\n",
        "\n",
        "\n",
        "\n"
      ],
      "metadata": {
        "id": "cDVscAXVovHu"
      }
    },
    {
      "cell_type": "code",
      "execution_count": null,
      "metadata": {
        "colab": {
          "base_uri": "https://localhost:8080/"
        },
        "id": "tKPumb5vooGF",
        "outputId": "e746c8ed-ead8-4b4b-b8a0-3aff6655d61e"
      },
      "outputs": [
        {
          "output_type": "stream",
          "name": "stdout",
          "text": [
            "True\n",
            "True\n",
            "False\n"
          ]
        }
      ],
      "source": [
        "# コード練習用（復習用）\n",
        "\"Bool値と比較演算子の復習\"\n",
        "a = 3\n",
        "b = 4\n",
        "c = 5\n",
        "\n",
        "d = a < b and b < c #どちらも大きければTrue\n",
        "print(d)\n",
        "\n",
        "e = a < b or b > c #どちらかが小さければTrue\n",
        "print(e)\n",
        "f = not a < b # bのほうが大きい場合、TrueではなくFalseを返す。\n",
        "print(f)"
      ]
    },
    {
      "cell_type": "code",
      "source": [
        "# コード練習用（復習用）\n",
        "\"四則演算（注意すべき箇所）\"\n",
        "a = 7\n",
        "b = 3\n",
        "\n",
        "g = a//b #整数部分で表示される。\n",
        "print(g)\n",
        "\n",
        "h = a % b #あまり部分が表示される\n",
        "print(h)"
      ],
      "metadata": {
        "colab": {
          "base_uri": "https://localhost:8080/"
        },
        "id": "gdruJvSJqKNo",
        "outputId": "0525b8f1-95f7-40cc-fc7e-7afd24c6cbd9"
      },
      "execution_count": null,
      "outputs": [
        {
          "output_type": "stream",
          "name": "stdout",
          "text": [
            "2\n",
            "1\n"
          ]
        }
      ]
    },
    {
      "cell_type": "code",
      "source": [
        "# コード練習用（復習用）\n",
        "\"論理演算子\"\n",
        "a = 3\n",
        "b = 4\n",
        "c = 5\n",
        "\n",
        "d = a < b and b < c #どちらも大きければTrue\n",
        "print(d)\n",
        "\n",
        "e = a < b or b > c #どちらかが小さければTrue\n",
        "print(e)\n",
        "f = not a < b # bのほうが大きい場合、TrueではなくFalseを返す。\n",
        "print(f)"
      ],
      "metadata": {
        "colab": {
          "base_uri": "https://localhost:8080/"
        },
        "id": "_DLcLR_Hrw-L",
        "outputId": "328c5bbb-b3e3-4fe5-863e-0b69d8377378"
      },
      "execution_count": null,
      "outputs": [
        {
          "output_type": "stream",
          "name": "stdout",
          "text": [
            "True\n",
            "True\n",
            "False\n"
          ]
        }
      ]
    },
    {
      "cell_type": "code",
      "source": [
        "# コード練習用（復習用）\n",
        "\"文字列どうしの組み合わせ方\"\n",
        "cat_name = \"Tama\"\n",
        "cat_old = \"10歳\"\n",
        "print(cat_name + \"は\" + cat_old  +\"です。\")"
      ],
      "metadata": {
        "colab": {
          "base_uri": "https://localhost:8080/"
        },
        "id": "FKpxcbXnqiYT",
        "outputId": "b7124276-e1ea-4355-da9b-212368bb166f"
      },
      "execution_count": null,
      "outputs": [
        {
          "output_type": "stream",
          "name": "stdout",
          "text": [
            "Tamaは10歳です。\n"
          ]
        }
      ]
    },
    {
      "cell_type": "markdown",
      "source": [
        ""
      ],
      "metadata": {
        "id": "uMr9sRlmouex"
      }
    },
    {
      "cell_type": "code",
      "source": [
        "#Pythoコード\n",
        "\"Pythonの基本 print　で出力\"\n",
        "#　文字列の挿入練習\n",
        "d = \"Pythonの練習中です\"\n",
        "print(d)\n"
      ],
      "metadata": {
        "colab": {
          "base_uri": "https://localhost:8080/"
        },
        "id": "klv4_sLnqvbe",
        "outputId": "437d23c3-f29c-4f61-8de1-f8044b826427"
      },
      "execution_count": null,
      "outputs": [
        {
          "output_type": "stream",
          "name": "stdout",
          "text": [
            "Pythonの練習中です\n"
          ]
        }
      ]
    },
    {
      "cell_type": "code",
      "source": [
        "\"リストと取り出し方・追加について\"\n",
        "\"取り出し方基礎\"\n",
        "a = [2011, 2012, 2013, 2014, 2015]  # リストの作成\n",
        "\n",
        "print(a[0]) #先頭\n",
        "print(a[1]) #先頭から1番目\n",
        "print(a[2])#先頭から2番目\n",
        "\n",
        "\"(取り出し方応用)\"\n",
        "b = 2016\n",
        "c = [b, 2017, 20.1, \"Hello\", \"Hi\"]\n",
        "\n",
        "print(c[1:4]) #(注意)これで1以上4未満となるため、1,2,3の値だけをとってくるという意味\n",
        "\"（取り出し方応用）\"\n",
        "d =[[2012, 2013, 2014], [2015, 2016, 2017]]\n",
        "print(d[0])  #　(注意)こうすることで最初のリストだけ取り出される。\n",
        "\n",
        "\"要素の変更・appendによる要素の追加\"\n",
        "e = [\"Py\", 543.21, 79, \"thon\", [2018, 2019, 2020]]\n",
        "print(e)\n",
        "\n",
        "\"変更\"\n",
        "e[2] = 99\n",
        "print(e)\n",
        "\"追加（append）\"\n",
        "e.append(2021)\n",
        "print(e)\n",
        "\n"
      ],
      "metadata": {
        "colab": {
          "base_uri": "https://localhost:8080/"
        },
        "id": "umrYmMAl7V6Y",
        "outputId": "5daff208-898b-447f-e67b-1fcac87c09c3"
      },
      "execution_count": null,
      "outputs": [
        {
          "output_type": "stream",
          "name": "stdout",
          "text": [
            "2011\n",
            "2012\n",
            "2013\n",
            "[2017, 20.1, 'Hello']\n",
            "[2012, 2013, 2014]\n",
            "['Py', 543.21, 79, 'thon', [2018, 2019, 2020]]\n",
            "['Py', 543.21, 99, 'thon', [2018, 2019, 2020]]\n",
            "['Py', 543.21, 99, 'thon', [2018, 2019, 2020], 2021]\n"
          ]
        }
      ]
    },
    {
      "cell_type": "markdown",
      "source": [
        "**（補足）リストについて**　　\n",
        "\n",
        "リストは全体を[]で囲み、各要素は,で区切ります。Pythonのリストはどのような値でも格納することができます。また、リストの中にリストを格納することもできます。\n",
        "\n"
      ],
      "metadata": {
        "id": "ozcgXqiX6skB"
      }
    },
    {
      "cell_type": "code",
      "source": [
        "\"リストとタプルの違い\"\n",
        "a = [2012, 2013, 2014]  # リスト\n",
        "b = (2012, 2013, 2014)  # タプル\n",
        "\n",
        "print(a)\n",
        "print(b)\n",
        "\n",
        "print(a[1])\n",
        "print(b[1])\n",
        "\n",
        "#要素の変更\n",
        "a[1] = 2016\n",
        "print(a)\n",
        "\n",
        "\"タプル（）では要素の変更ができない\"\n",
        "# b[1] = 2016\n",
        "# print(b) \n",
        "#　エラーが表示される\n",
        "# TypeError                                 Traceback (most recent call last)\n",
        "# <ipython-input-19-b14bc69b05e1> in <module>()\n",
        "#      13 print(a)\n",
        "#      14 \n",
        "# ---> 15 b[1] = 2016\n",
        "#      16 print(b)\n",
        "#      17 \n",
        "\n",
        "\n",
        "#要素の追加\n",
        "a.append(2016)\n",
        "print(a)\n",
        "\n",
        "\"タプル（）では要素の追加もできない\"\n",
        "#　エラーが表示される\n",
        "# b.append(2016)\n",
        "# print(b)\n",
        "# AttributeError                            Traceback (most recent call last)\n",
        "# <ipython-input-26-09bc029d3b37> in <module>()\n",
        "#      31 print(a)\n",
        "#      32 \n",
        "# ---> 33 b.append(2016)\n",
        "#      34 print(b)\n",
        "#      35 "
      ],
      "metadata": {
        "colab": {
          "base_uri": "https://localhost:8080/",
          "height": 140
        },
        "id": "OEoqWT-u90rM",
        "outputId": "ecc300de-7c11-49da-8275-7b9ad6a2bdf3"
      },
      "execution_count": null,
      "outputs": [
        {
          "output_type": "stream",
          "name": "stdout",
          "text": [
            "[2012, 2013, 2014]\n",
            "(2012, 2013, 2014)\n",
            "2013\n",
            "2013\n",
            "[2012, 2016, 2014]\n",
            "[2012, 2016, 2014, 2016]\n"
          ]
        },
        {
          "output_type": "execute_result",
          "data": {
            "application/vnd.google.colaboratory.intrinsic+json": {
              "type": "string"
            },
            "text/plain": [
              "'タプル（）では要素の追加もできない'"
            ]
          },
          "metadata": {},
          "execution_count": 12
        }
      ]
    },
    {
      "cell_type": "markdown",
      "source": [
        "**（補足）　タプルについて**\n",
        "\n",
        "タプルはリストと同じく複数の値をまとめて扱いたいときに利用しますが、要素の追加や削除、入れ替えなどはできません。\n",
        "タプルは全体を()で囲み、各要素は,で区切ります。\n",
        "要素を変更する予定が無い場合は、リストよりもタプルを使用する方がベターです。\n",
        "以下では、リストとタプルを比較しています。"
      ],
      "metadata": {
        "id": "JYJgE4Hs9tox"
      }
    },
    {
      "cell_type": "code",
      "source": [
        "\"辞書について\"\n",
        "a = {\"Taro\":1999, \"Hanako\":2008} #辞書の作成\n",
        "\n",
        "print(a[\"Taro\"]) #これがキー。するとTaroと対応する値（1999）が取り出される\n",
        "\n",
        "# 要素の入れ替え可能！\n",
        "a[\"Hanako\"] = 1980\n",
        "print(a[\"Hanako\"])\n",
        "\n",
        "#要素の追加！と注意点\n",
        "\"成功例\"\n",
        "a[\"Jiro\"] = 2000\n",
        "print(a)\n",
        "\"↑の方法であればキー（左側）＝値（右側）のセットで追加ができる\"\n",
        "\"しかし\"\n",
        "\"失敗例\"\"あくまでも追加するには上記の方法でしかできない（appendによる追加はできない）\"\n",
        "#  a.append(\"Kota\") \n",
        "#  print(a)\n",
        "\"エラーが生じる↓\"\n",
        " #  File \"<ipython-input-36-0da0acafc728>\", line 16\n",
        "#     a.append(\"Kota\")\n",
        "#     ^\n",
        "# IndentationError: unexpected indent"
      ],
      "metadata": {
        "colab": {
          "base_uri": "https://localhost:8080/",
          "height": 87
        },
        "id": "fLqfYLRL-pMO",
        "outputId": "fc099b8f-984a-40aa-8d61-60c880af1d67"
      },
      "execution_count": null,
      "outputs": [
        {
          "output_type": "stream",
          "name": "stdout",
          "text": [
            "1999\n",
            "1980\n",
            "{'Taro': 1999, 'Hanako': 1980, 'Jiro': 2000}\n"
          ]
        },
        {
          "output_type": "execute_result",
          "data": {
            "application/vnd.google.colaboratory.intrinsic+json": {
              "type": "string"
            },
            "text/plain": [
              "'失敗例あくまでも追加するには上記の方法でしかできない'"
            ]
          },
          "metadata": {},
          "execution_count": 15
        }
      ]
    },
    {
      "cell_type": "markdown",
      "source": [
        "**(補足)　辞書について**\n",
        "\n",
        "辞書は、キーと値の組合せでデータを格納します。　\n",
        "\n"
      ],
      "metadata": {
        "id": "LtwZhvJb-3kf"
      }
    }
  ]
}