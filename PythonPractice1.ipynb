{
  "nbformat": 4,
  "nbformat_minor": 0,
  "metadata": {
    "colab": {
      "name": "PythonPractice1.ipynb",
      "provenance": [],
      "collapsed_sections": [],
      "authorship_tag": "ABX9TyNb3Y2xhMZMkZFuvvfWdjl3",
      "include_colab_link": true
    },
    "kernelspec": {
      "name": "python3",
      "display_name": "Python 3"
    },
    "language_info": {
      "name": "python"
    }
  },
  "cells": [
    {
      "cell_type": "markdown",
      "metadata": {
        "id": "view-in-github",
        "colab_type": "text"
      },
      "source": [
        "<a href=\"https://colab.research.google.com/github/RYOTA2528/PythonPractivce-on-AWS/blob/main/PythonPractice1.ipynb\" target=\"_parent\"><img src=\"https://colab.research.google.com/assets/colab-badge.svg\" alt=\"Open In Colab\"/></a>"
      ]
    },
    {
      "cell_type": "markdown",
      "source": [
        "**【Python学習　初級編】**\n",
        "\n",
        "**（項目）**\n",
        "1. GoogleColaboratoryについての基礎学習,Pythonの概要理解,人工知能の概要理解,ニュートラルネットワーク概要理解\n",
        "2. GoogleColaboratory上でのコード記載方法・復習（マークダウン・変数・四則演算・Boot値と比較演算子・論理演算子）\n",
        "3. リスト・タプル・辞書について。appendコマンド\n",
        "\n",
        "\n",
        "\n"
      ],
      "metadata": {
        "id": "cDVscAXVovHu"
      }
    },
    {
      "cell_type": "code",
      "execution_count": null,
      "metadata": {
        "colab": {
          "base_uri": "https://localhost:8080/"
        },
        "id": "tKPumb5vooGF",
        "outputId": "e746c8ed-ead8-4b4b-b8a0-3aff6655d61e"
      },
      "outputs": [
        {
          "output_type": "stream",
          "name": "stdout",
          "text": [
            "True\n",
            "True\n",
            "False\n"
          ]
        }
      ],
      "source": [
        "# コード練習用（復習用）\n",
        "\"Bool値と比較演算子の復習\"\n",
        "a = 3\n",
        "b = 4\n",
        "c = 5\n",
        "\n",
        "d = a < b and b < c #どちらも大きければTrue\n",
        "print(d)\n",
        "\n",
        "e = a < b or b > c #どちらかが小さければTrue\n",
        "print(e)\n",
        "f = not a < b # bのほうが大きい場合、TrueではなくFalseを返す。\n",
        "print(f)"
      ]
    },
    {
      "cell_type": "code",
      "source": [
        "# コード練習用（復習用）\n",
        "\"四則演算（注意すべき箇所）\"\n",
        "a = 7\n",
        "b = 3\n",
        "\n",
        "g = a//b #整数部分で表示される。\n",
        "print(g)\n",
        "\n",
        "h = a % b #あまり部分が表示される\n",
        "print(h)"
      ],
      "metadata": {
        "colab": {
          "base_uri": "https://localhost:8080/"
        },
        "id": "gdruJvSJqKNo",
        "outputId": "0525b8f1-95f7-40cc-fc7e-7afd24c6cbd9"
      },
      "execution_count": null,
      "outputs": [
        {
          "output_type": "stream",
          "name": "stdout",
          "text": [
            "2\n",
            "1\n"
          ]
        }
      ]
    },
    {
      "cell_type": "code",
      "source": [
        "# コード練習用（復習用）\n",
        "\"論理演算子\"\n",
        "a = 3\n",
        "b = 4\n",
        "c = 5\n",
        "\n",
        "d = a < b and b < c #どちらも大きければTrue\n",
        "print(d)\n",
        "\n",
        "e = a < b or b > c #どちらかが小さければTrue\n",
        "print(e)\n",
        "f = not a < b # bのほうが大きい場合、TrueではなくFalseを返す。\n",
        "print(f)"
      ],
      "metadata": {
        "colab": {
          "base_uri": "https://localhost:8080/"
        },
        "id": "_DLcLR_Hrw-L",
        "outputId": "328c5bbb-b3e3-4fe5-863e-0b69d8377378"
      },
      "execution_count": null,
      "outputs": [
        {
          "output_type": "stream",
          "name": "stdout",
          "text": [
            "True\n",
            "True\n",
            "False\n"
          ]
        }
      ]
    },
    {
      "cell_type": "code",
      "source": [
        "# コード練習用（復習用）\n",
        "\"文字列どうしの組み合わせ方\"\n",
        "cat_name = \"Tama\"\n",
        "cat_old = \"10歳\"\n",
        "print(cat_name + \"は\" + cat_old  +\"です。\")"
      ],
      "metadata": {
        "colab": {
          "base_uri": "https://localhost:8080/"
        },
        "id": "FKpxcbXnqiYT",
        "outputId": "b7124276-e1ea-4355-da9b-212368bb166f"
      },
      "execution_count": null,
      "outputs": [
        {
          "output_type": "stream",
          "name": "stdout",
          "text": [
            "Tamaは10歳です。\n"
          ]
        }
      ]
    },
    {
      "cell_type": "markdown",
      "source": [
        ""
      ],
      "metadata": {
        "id": "uMr9sRlmouex"
      }
    },
    {
      "cell_type": "code",
      "source": [
        "#Pythoコード\n",
        "\"Pythonの基本 print　で出力\"\n",
        "#　文字列の挿入練習\n",
        "d = \"Pythonの練習中です\"\n",
        "print(d)\n"
      ],
      "metadata": {
        "colab": {
          "base_uri": "https://localhost:8080/"
        },
        "id": "klv4_sLnqvbe",
        "outputId": "437d23c3-f29c-4f61-8de1-f8044b826427"
      },
      "execution_count": null,
      "outputs": [
        {
          "output_type": "stream",
          "name": "stdout",
          "text": [
            "Pythonの練習中です\n"
          ]
        }
      ]
    },
    {
      "cell_type": "code",
      "source": [
        "\"リストと取り出し方・追加について\"\n",
        "\"取り出し方基礎\"\n",
        "a = [2011, 2012, 2013, 2014, 2015]  # リストの作成\n",
        "\n",
        "print(a[0]) #先頭\n",
        "print(a[1]) #先頭から1番目\n",
        "print(a[2])#先頭から2番目\n",
        "\n",
        "\"(取り出し方応用)\"\n",
        "b = 2016\n",
        "c = [b, 2017, 20.1, \"Hello\", \"Hi\"]\n",
        "\n",
        "print(c[1:4]) #(注意)これで1以上4未満となるため、1,2,3の値だけをとってくるという意味\n",
        "\"（取り出し方応用）\"\n",
        "d =[[2012, 2013, 2014], [2015, 2016, 2017]]\n",
        "print(d[0])  #　(注意)こうすることで最初のリストだけ取り出される。\n",
        "\n",
        "\"要素の変更・appendによる要素の追加\"\n",
        "e = [\"Py\", 543.21, 79, \"thon\", [2018, 2019, 2020]]\n",
        "print(e)\n",
        "\n",
        "\"変更\"\n",
        "e[2] = 99\n",
        "print(e)\n",
        "\"追加（append）\"\n",
        "e.append(2021)\n",
        "print(e)\n",
        "\n"
      ],
      "metadata": {
        "colab": {
          "base_uri": "https://localhost:8080/"
        },
        "id": "umrYmMAl7V6Y",
        "outputId": "62964f1c-4a46-489f-f737-12ca2df2af98"
      },
      "execution_count": 2,
      "outputs": [
        {
          "output_type": "stream",
          "name": "stdout",
          "text": [
            "2011\n",
            "2012\n",
            "2013\n",
            "[2017, 20.1, 'Hello']\n",
            "[2012, 2013, 2014]\n",
            "['Py', 543.21, 79, 'thon', [2018, 2019, 2020]]\n",
            "['Py', 543.21, 99, 'thon', [2018, 2019, 2020]]\n",
            "['Py', 543.21, 99, 'thon', [2018, 2019, 2020], 2021]\n"
          ]
        }
      ]
    },
    {
      "cell_type": "markdown",
      "source": [
        "**（補足）リストについて**　　\n",
        "\n",
        "リストは全体を[]で囲み、各要素は,で区切ります。Pythonのリストはどのような値でも格納することができます。また、リストの中にリストを格納することもできます。\n",
        "\n"
      ],
      "metadata": {
        "id": "ozcgXqiX6skB"
      }
    },
    {
      "cell_type": "code",
      "source": [
        "\"リストとタプルの違い\"\n",
        "a = [2012, 2013, 2014]  # リスト\n",
        "b = (2012, 2013, 2014)  # タプル\n",
        "\n",
        "print(a)\n",
        "print(b)\n",
        "\n",
        "print(a[1])\n",
        "print(b[1])\n",
        "\n",
        "#要素の変更\n",
        "a[1] = 2016\n",
        "print(a)\n",
        "\n",
        "\"タプル（）では要素の変更ができない\"\n",
        "# b[1] = 2016\n",
        "# print(b) \n",
        "#　エラーが表示される\n",
        "# TypeError                                 Traceback (most recent call last)\n",
        "# <ipython-input-19-b14bc69b05e1> in <module>()\n",
        "#      13 print(a)\n",
        "#      14 \n",
        "# ---> 15 b[1] = 2016\n",
        "#      16 print(b)\n",
        "#      17 \n",
        "\n",
        "\n",
        "#要素の追加\n",
        "a.append(2016)\n",
        "print(a)\n",
        "\n",
        "\"タプル（）では要素の追加もできない\"\n",
        "#　エラーが表示される\n",
        "# b.append(2016)\n",
        "# print(b)\n",
        "# AttributeError                            Traceback (most recent call last)\n",
        "# <ipython-input-26-09bc029d3b37> in <module>()\n",
        "#      31 print(a)\n",
        "#      32 \n",
        "# ---> 33 b.append(2016)\n",
        "#      34 print(b)\n",
        "#      35 "
      ],
      "metadata": {
        "colab": {
          "base_uri": "https://localhost:8080/",
          "height": 140
        },
        "id": "OEoqWT-u90rM",
        "outputId": "ecc300de-7c11-49da-8275-7b9ad6a2bdf3"
      },
      "execution_count": null,
      "outputs": [
        {
          "output_type": "stream",
          "name": "stdout",
          "text": [
            "[2012, 2013, 2014]\n",
            "(2012, 2013, 2014)\n",
            "2013\n",
            "2013\n",
            "[2012, 2016, 2014]\n",
            "[2012, 2016, 2014, 2016]\n"
          ]
        },
        {
          "output_type": "execute_result",
          "data": {
            "application/vnd.google.colaboratory.intrinsic+json": {
              "type": "string"
            },
            "text/plain": [
              "'タプル（）では要素の追加もできない'"
            ]
          },
          "metadata": {},
          "execution_count": 12
        }
      ]
    },
    {
      "cell_type": "markdown",
      "source": [
        "**（補足）　タプルについて**\n",
        "\n",
        "タプルはリストと同じく複数の値をまとめて扱いたいときに利用しますが、要素の追加や削除、入れ替えなどはできません。\n",
        "タプルは全体を()で囲み、各要素は,で区切ります。\n",
        "要素を変更する予定が無い場合は、リストよりもタプルを使用する方がベターです。\n",
        "以下では、リストとタプルを比較しています。"
      ],
      "metadata": {
        "id": "JYJgE4Hs9tox"
      }
    },
    {
      "cell_type": "code",
      "source": [
        "\"辞書について\"\n",
        "a = {\"Taro\":1999, \"Hanako\":2008} #辞書の作成\n",
        "\n",
        "print(a[\"Taro\"]) #これがキー。するとTaroと対応する値（1999）が取り出される\n",
        "\n",
        "# 要素の入れ替え可能！\n",
        "a[\"Hanako\"] = 1980\n",
        "print(a[\"Hanako\"])\n",
        "\n",
        "#要素の追加！と注意点\n",
        "\"成功例\"\n",
        "a[\"Jiro\"] = 2000\n",
        "print(a)\n",
        "\"↑の方法であればキー（左側）＝値（右側）のセットで追加ができる\"\n",
        "\"しかし\"\n",
        "\"失敗例\"\"あくまでも追加するには上記の方法でしかできない（appendによる追加はできない）\"\n",
        "#  a.append(\"Kota\") \n",
        "#  print(a)\n",
        "\"エラーが生じる↓\"\n",
        " #  File \"<ipython-input-36-0da0acafc728>\", line 16\n",
        "#     a.append(\"Kota\")\n",
        "#     ^\n",
        "# IndentationError: unexpected indent"
      ],
      "metadata": {
        "colab": {
          "base_uri": "https://localhost:8080/",
          "height": 87
        },
        "id": "fLqfYLRL-pMO",
        "outputId": "fc099b8f-984a-40aa-8d61-60c880af1d67"
      },
      "execution_count": null,
      "outputs": [
        {
          "output_type": "stream",
          "name": "stdout",
          "text": [
            "1999\n",
            "1980\n",
            "{'Taro': 1999, 'Hanako': 1980, 'Jiro': 2000}\n"
          ]
        },
        {
          "output_type": "execute_result",
          "data": {
            "application/vnd.google.colaboratory.intrinsic+json": {
              "type": "string"
            },
            "text/plain": [
              "'失敗例あくまでも追加するには上記の方法でしかできない'"
            ]
          },
          "metadata": {},
          "execution_count": 15
        }
      ]
    },
    {
      "cell_type": "markdown",
      "source": [
        "**(補足)　辞書について**\n",
        "\n",
        "辞書は、キーと値の組合せでデータを格納します。　\n",
        "\n"
      ],
      "metadata": {
        "id": "LtwZhvJb-3kf"
      }
    },
    {
      "cell_type": "code",
      "source": [
        "\"if文について\"\n",
        "a = 5\n",
        "\n",
        "if a == 5:   # a==5　であればTrue。つまり下の計算結果は無事実行される。\n",
        "  print(\"3+4=\")\n",
        "  print(3+4)\n",
        "else:   #a==5ではない場合、つまりFalseであるためしたの計算は実行されない\n",
        "  print(\"3×4=\")\n",
        "  print(3*4)\n",
        "\n",
        "\"Rubyの時とは違ってendでは閉めない\"\n",
        "\"Rubyと違い:を入れる\"\n",
        "\n",
        "\"(if文の応用　elsif)\"\n",
        "b = 4\n",
        "\n",
        "if b < 3:\n",
        "    print(\"Hello!\")\n",
        "elif b < 5:  # ifの右側がFalseの場合\n",
        "    print(\"Hi!\")\n",
        "else:  # if、elifの右側がFalseの場合\n",
        "    print(\"Yeah!\")\n",
        "\n",
        "\"(if文の応用)\"\n",
        "time = 20\n",
        "\n",
        "if time < 12:\n",
        "    print(\"Good morning!\")\n",
        "elif time < 17:\n",
        "    print(\"Good afternoon!\")\n",
        "elif time < 21:\n",
        "    print(\"Good evening!\")\n",
        "else:\n",
        "    print(\"Good night!\")\n",
        "\n",
        "\n"
      ],
      "metadata": {
        "colab": {
          "base_uri": "https://localhost:8080/"
        },
        "id": "q6CehPiBLnrX",
        "outputId": "cf50861f-0c29-48ed-de12-c93f8ddf89c4"
      },
      "execution_count": null,
      "outputs": [
        {
          "output_type": "stream",
          "name": "stdout",
          "text": [
            "3+4=\n",
            "7\n",
            "Hi!\n",
            "Good evening!\n"
          ]
        }
      ]
    },
    {
      "cell_type": "markdown",
      "source": [
        "**(補足) if文について**\n",
        "if文により条件分岐を行うことができます。\n",
        "ifの右側がTrueであればその次の処理が、Falseであればelseの次の処理が実行されます。\n",
        "\n",
        "分岐後の処理の行頭には、複数のスペースからなる「インデント」を挿入します。\n",
        "\n",
        "**(Tabを2回おせばOK！！)**\n",
        "\n",
        "インデントは通常半角スペース4つを使用します。\n",
        "\n",
        "3つ以上の分岐を行う際には、elifを使用します。"
      ],
      "metadata": {
        "id": "TkYhgbWFLoFe"
      }
    },
    {
      "cell_type": "code",
      "source": [
        "\"for文について\"\n",
        "a = [2001, 2002, 2003, 2004, 2005]\n",
        "for i in a:  #aの中からiで一つずつ取り出してという意味\n",
        "　　print(i + 10)  # 一つずつ取り出した結果に10を追加。"
      ],
      "metadata": {
        "colab": {
          "base_uri": "https://localhost:8080/"
        },
        "id": "A4S1ZbodRC5b",
        "outputId": "f877ff9e-b02f-4ac9-b7f6-7d9f27c583ad"
      },
      "execution_count": null,
      "outputs": [
        {
          "output_type": "stream",
          "name": "stdout",
          "text": [
            "2011\n",
            "2012\n",
            "2013\n",
            "2014\n",
            "2015\n"
          ]
        }
      ]
    },
    {
      "cell_type": "markdown",
      "source": [
        "**(補足) for文について** \n",
        "\n",
        "同じ処理を繰り返し実行することができます。\n",
        "\n"
      ],
      "metadata": {
        "id": "_-23fb4SQ0v8"
      }
    },
    {
      "cell_type": "code",
      "source": [
        "\"rangeについて\"\n",
        "for i in range(0, 6):  # iには0以上6未満の整数が入る\n",
        "    print(i * 2) # 0から6までの数字へのループ処理とそれぞれに2をかける"
      ],
      "metadata": {
        "colab": {
          "base_uri": "https://localhost:8080/"
        },
        "id": "ZqjsL83Y1Oym",
        "outputId": "801bc41d-0785-449d-ecee-e213700733f3"
      },
      "execution_count": null,
      "outputs": [
        {
          "output_type": "stream",
          "name": "stdout",
          "text": [
            "0\n",
            "2\n",
            "4\n",
            "6\n",
            "8\n",
            "10\n"
          ]
        }
      ]
    },
    {
      "cell_type": "markdown",
      "source": [
        "**(補足) rangeについて**  \n",
        "ループ内で連番の整数を使う場合は、`range`を使用します。  \n",
        "\n",
        "ループ処理である。"
      ],
      "metadata": {
        "id": "rI66u-_Z1jZ5"
      }
    },
    {
      "cell_type": "code",
      "source": [
        "\"whileについて\"\n",
        "print(\"--- 10未満 ---\")\n",
        "a = 0\n",
        "while a < 10:  # aが10未満である”間”は次の処理を行ってくださいという意味（ループ処理）\n",
        "    print(a)\n",
        "    a += 1  # a=10未満の場合は、aに1を加える処理をループで行ってください\n",
        "\n",
        "print(\"--- 10と等しくない ---\")\n",
        "b = 0\n",
        "while b != 10:  # bが10と等しくない”間”ループ処理をしてください\n",
        "    print(b)\n",
        "    b += 1  #b=10でない”間　”は、bに1を加える処理をループで行ってください\n"
      ],
      "metadata": {
        "colab": {
          "base_uri": "https://localhost:8080/"
        },
        "id": "1v3vXC_i3Txu",
        "outputId": "c892c2a0-811b-4dfd-f645-9a7f6544be19"
      },
      "execution_count": null,
      "outputs": [
        {
          "output_type": "stream",
          "name": "stdout",
          "text": [
            "--- 10未満 ---\n",
            "0\n",
            "1\n",
            "2\n",
            "3\n",
            "4\n",
            "5\n",
            "6\n",
            "7\n",
            "8\n",
            "9\n",
            "--- 10と等しくない ---\n",
            "0\n",
            "1\n",
            "2\n",
            "3\n",
            "4\n",
            "5\n",
            "6\n",
            "7\n",
            "8\n",
            "9\n"
          ]
        }
      ]
    },
    {
      "cell_type": "markdown",
      "source": [
        "**(補足) whileについて**\n",
        "ある条件が満たされている間ループするためには、**while**文を用います。  \n"
      ],
      "metadata": {
        "id": "e9dmpTtw5QMj"
      }
    },
    {
      "cell_type": "code",
      "source": [
        "\"（応用編）分岐とループの組み合わせ\"\n",
        "a = [] #空のリスト\n",
        "for i in range(0,10):  #0から10までのループ処理かつ一つずつ取り出す\n",
        "    if i%2 == 0: #（重要）一つずつ取り出したものが、これで”偶数（余りがでない）であれば”という意味\n",
        "        a.append(i) #aにiを追加して表示という意味\n",
        "\n",
        "print(a)"
      ],
      "metadata": {
        "colab": {
          "base_uri": "https://localhost:8080/"
        },
        "id": "CSUc7bVG5Gtp",
        "outputId": "0569bd19-155d-4205-cbdc-6cdaf70203a6"
      },
      "execution_count": null,
      "outputs": [
        {
          "output_type": "stream",
          "name": "stdout",
          "text": [
            "[0, 2, 4, 6, 8]\n"
          ]
        }
      ]
    },
    {
      "cell_type": "markdown",
      "source": [
        "**(分岐・ループの組み合わせ)**\n",
        "\n",
        "分岐とループを組み合わせることで、**条件が満たされた処理のみを**ループ内で実行することが可能になります。"
      ],
      "metadata": {
        "id": "NZvglJp47X-N"
      }
    },
    {
      "cell_type": "code",
      "source": [
        "\"関数について\"\n",
        "def say_hello():  # defの後に関数名を記述\n",
        "    print(\"Hello world!\")  #\n",
        "\n",
        "say_hello()  # 関数の呼び出し"
      ],
      "metadata": {
        "colab": {
          "base_uri": "https://localhost:8080/"
        },
        "id": "2Nv8DyjfcXUi",
        "outputId": "d678eafc-e9fe-42bd-c199-f7b779f2a1af"
      },
      "execution_count": null,
      "outputs": [
        {
          "output_type": "stream",
          "name": "stdout",
          "text": [
            "Hello world!\n"
          ]
        }
      ]
    },
    {
      "cell_type": "markdown",
      "source": [
        "**【関数について】**を用いることで、処理を一括りにして何度も呼び出すことができます。 \n",
        "\n",
        "**【注意】**　\n",
        "defで定義した後は、:を入れるのを忘れずに"
      ],
      "metadata": {
        "id": "WTYhYBB1cXAe"
      }
    },
    {
      "cell_type": "code",
      "source": [
        "\"関数の複数回の出力\"\n",
        "def say_gm():\n",
        "    print(\"Good morning!\")  #下のように連続した処理も、定義することで何度でもだせる\n",
        "\n",
        "say_gm()\n",
        "say_gm()\n",
        "say_gm()"
      ],
      "metadata": {
        "colab": {
          "base_uri": "https://localhost:8080/"
        },
        "id": "v2o8mVjqctV3",
        "outputId": "56cefeee-44a7-4d52-cbab-ef50260af569"
      },
      "execution_count": null,
      "outputs": [
        {
          "output_type": "stream",
          "name": "stdout",
          "text": [
            "Good morning!\n",
            "Good morning!\n",
            "Good morning!\n"
          ]
        }
      ]
    },
    {
      "cell_type": "code",
      "source": [
        "\"引数について\"\n",
        "def say_number(a):\n",
        "    print(a)  \n",
        "\n",
        "say_number(123)  #関数say_number(a)の中身に123をいれるということ。a=引数！！\n",
        "\n",
        "\"引数が複数の場合\"\n",
        "def add(a,b,c):  #引数は３つ\n",
        "    d = a + b + c  #(注意)連続する値の時は、このようにdという引数をだす！\n",
        "    print(d)\n",
        "\n",
        "add(3, 4, 5) #引数に渡す値を記載\n"
      ],
      "metadata": {
        "colab": {
          "base_uri": "https://localhost:8080/"
        },
        "id": "Ye-Dle4gc35c",
        "outputId": "1fb1b34a-2315-4e8a-ba73-83d049e3695f"
      },
      "execution_count": null,
      "outputs": [
        {
          "output_type": "stream",
          "name": "stdout",
          "text": [
            "123\n",
            "12\n"
          ]
        }
      ]
    },
    {
      "cell_type": "markdown",
      "source": [
        "**【引数について】**　　\n",
        "\n",
        "関数は、外部からの値を引数として受け取ることができます。"
      ],
      "metadata": {
        "id": "vnwbZRQSdXM7"
      }
    },
    {
      "cell_type": "code",
      "source": [
        "\"返り値について\"\n",
        "def get_number():\n",
        "    a = 123 #aに123をいれて、\n",
        "    return a #そしてaを返り値として返す.こうすることで関数の外部へ値が渡るようになる\n",
        "\n",
        "b = get_number() #(重要)こうすることで、get_number()には返り値であるaの値が入ってる!!\n",
        "print(b)  #ここで関数呼び出し行っている。その結果返り値Aが入ったBがよびだされる"
      ],
      "metadata": {
        "id": "XFfinWMjfPYO",
        "outputId": "af7acadd-74e3-41da-9303-04c7fedc6fd7",
        "colab": {
          "base_uri": "https://localhost:8080/"
        }
      },
      "execution_count": null,
      "outputs": [
        {
          "output_type": "stream",
          "name": "stdout",
          "text": [
            "123\n"
          ]
        }
      ]
    },
    {
      "cell_type": "markdown",
      "source": [
        "**【返り値について】**\n",
        "返り値を用いると、関数から外部に値を渡すことができます。"
      ],
      "metadata": {
        "id": "D1oWhghUfPfx"
      }
    },
    {
      "cell_type": "code",
      "source": [
        "\"（応用）引数と返り値の組み合わせ\"\n",
        "def add(a,b):\n",
        "    c = a + b\n",
        "    return c #(重要)これでcの中のa+bの計算式を格納した。cで返せるようになる\n",
        "\n",
        "result1 = add(3, 4) #(重要)このように書く！\n",
        "print(result1)\n",
        "\n",
        "result2 = add(7, 8)\n",
        "print(result2)\n"
      ],
      "metadata": {
        "id": "kd4i1EXvhO-E",
        "outputId": "b1ae9049-5079-44f3-b49d-3985cd1aa975",
        "colab": {
          "base_uri": "https://localhost:8080/"
        }
      },
      "execution_count": null,
      "outputs": [
        {
          "output_type": "stream",
          "name": "stdout",
          "text": [
            "7\n",
            "15\n"
          ]
        }
      ]
    },
    {
      "cell_type": "code",
      "source": [
        "\"グローバル変数について\"\n",
        "glob_1 = 123 #関数外にあるためグローバル関数\n",
        "\n",
        "def show_number():\n",
        "      loc_1 = 456 #関数内で定義されてるためローカル関数\n",
        "      print(glob_1,loc_1)  #\"【重要】printで定義をした？ということ？？\"\n",
        "      show_number()\n",
        "\n",
        "\"ローカル変数の定義できる範囲\"\n",
        "glob_2 = 123\n",
        "\n",
        "def setNum():\n",
        "   loc_2 = 456 # \"【重要】この状態でprintされてないためローカル変数は定義されてない\"\n",
        "\n",
        "   \n",
        "setNum()\n",
        "print(glob_2, loc_2) #(注意)このように対象外の範囲でローカル変数を呼び出すとエラーがでる\n",
        "\n",
        " "
      ],
      "metadata": {
        "id": "QssvTBymhjIz"
      },
      "execution_count": 11,
      "outputs": []
    },
    {
      "cell_type": "markdown",
      "source": [
        "**【変数のスコープについて】**\n",
        "関数内で定義された変数が**ローカル変数**、関数外で定義された変数が**グローバル変数**です。\n"
      ],
      "metadata": {
        "id": "2QpaAqfEi5Kt"
      }
    },
    {
      "cell_type": "code",
      "source": [
        "\"クラスについて\"\n",
        "class Calc: #Calc(カリキュレーションの略)クラス（クラスとは：関数をまとめたようなもの）\n",
        "    def add(self, a, b): #add メソッド \n",
        "        print(a + b)\n",
        "\n",
        "    def multiply(self, a, b): #multiply メソッド\n",
        "        print(a * b)\n",
        "\n",
        "cl = Calc() #【重要：考え方】インスタンスcl 。つまり先ずははじめは、classをインスタンス変数に格納してから始める\n",
        "cl.add(2, 3)\n",
        "     #【重要】**このインスタンスclから各メソッドをよびだすことができる**\n",
        "     #【重要】**インスタンスはselfを使うことで値を保持することができる**\n",
        "cl.multiply(4, 5)\n",
        "\n",
        "\"インスタンス変数とclassについて\"\n",
        "class Box:\n",
        "    def set_number(self,n1, n2):\n",
        "      self.num1 = n1  #【重要：考え方】num1変数＝n1引数　というnum1という箱に収納!!!\n",
        "      self.num2 = n2\n",
        "\n",
        "bx = Box()\n",
        "bx.set_number(123, 456)\n",
        "\n",
        "print(bx.num1) #【重要】bxが持ってるnum1と　という意味\n",
        "print(bx.num2)\n",
        "\n",
        "bx.num1 = 999  # 値を変更\n",
        "print(bx.num1)\n",
        "\n",
        "#　結果、printされた答えを見ると、値変更前の結果もほじされている！！\n",
        "\n",
        "\"（応用）インスタンスの保持\"\n",
        "class Dog:  #ここの工程のイメージは、今からしたいことの式（定義）をまずは決めてるイメージ!\n",
        "    def set_dog(self, n, a):\n",
        "        self.name = n  #【重要：考え方】nameという考え方です。ということ。\n",
        "        self.age = a\n",
        "        \n",
        "dog1 = Dog() #dog1というオブジェクトを作りたいのでまずは、Dog()という空箱を用意する\n",
        "dog1.set_dog(\"Pochi\", 5) #そしてdog1の空箱に先ほど定義したset_dogという変数を用いて、値を格納する\n",
        "                                   # ↓\n",
        "                           #【重要】　dog1,dog2のようにclassをまたいで使用可能!!\n",
        "dog2 = Dog()                       # ↑\n",
        "dog2.set_dog(\"Hachi\", 12)\n",
        "\n",
        "dogs = [dog1, dog2]  # 【重要：考え方】リストには”変数”をこうして格納することも可能!!\n",
        "for d in dogs:  #　for文を使用し、一つずつ取り出した。\n",
        "    print(d.name, d.age)\n"
      ],
      "metadata": {
        "id": "xaLesnm9pHSk",
        "outputId": "7b046bd0-76d1-44a0-a6b2-a8ff9237781d",
        "colab": {
          "base_uri": "https://localhost:8080/"
        }
      },
      "execution_count": 3,
      "outputs": [
        {
          "output_type": "stream",
          "name": "stdout",
          "text": [
            "5\n",
            "20\n",
            "123\n",
            "456\n",
            "999\n",
            "Pochi 5\n",
            "Hachi 12\n"
          ]
        }
      ]
    },
    {
      "cell_type": "markdown",
      "source": [
        "**【クラスについて】**\n",
        "クラスを用いると、複数の「関数のようなもの」をまとめることができます。\n",
        "この「関数のようなもの」は、メソッドと呼ばれます。\n",
        "\n",
        "Pythonでクラスを定義するためには、classの表記を用います。\n",
        "メソッドはクラス内で定義するのですが、関数と同様にdefの直後にメソッド名を記述します。\n",
        "\n",
        "**【重要】**\n",
        "\n",
        "①. メソッドの（）のはじめは必ずselfとかかなければならない  \n",
        "\n",
        "②.class～: def～: で忘れずに\n",
        "\n",
        "③.必ずclassだけでは使用できないため、インスタンスをつける cl =～\n",
        "\n",
        "④.#【重要】**インスタンス変数はselfを使うことで値を保持することができる**  \n",
        "\n",
        "⑤.self = メソッドだと思えばわかりやすい  \n",
        "(ex)class Dog:\n",
        "  def set_dogs(self,n,a):\n",
        "    self.name = n\n",
        "    self.age = a\n",
        "\n",
        "    これなら set_dogs = selfと考えれば、\n",
        "    self(set_dogs)_name = nで理解できる\n",
        "\n"
      ],
      "metadata": {
        "id": "JC0a4D9DpMKA"
      }
    },
    {
      "cell_type": "code",
      "source": [
        "\"ファイルの保存\"\n",
        "greetings = \"Good morning! Good night!\"  #今からこの文字列をファイルに保存していく（with構文）\n",
        "\n",
        "with open(\"greetings.txt\",\"w\")as f: #greetingsファイル、wは書き込みの略。as f　とかくことで書き込みができるようになる。\n",
        "    f.write(greetings)\n",
        "\n",
        "\"ファイルの読み込み\"\n",
        "with open(\"greetings.txt\",\"r\")as f: #先ほど保存したファイルの読み込み作業は、print(f.read())　で可能\n",
        "    print(f.read())\n"
      ],
      "metadata": {
        "id": "Nk8D82ZcewCS",
        "outputId": "94694c46-c4c5-4cc1-ac54-ac4b08c4d6f5",
        "colab": {
          "base_uri": "https://localhost:8080/"
        }
      },
      "execution_count": 7,
      "outputs": [
        {
          "output_type": "stream",
          "name": "stdout",
          "text": [
            "Good morning! Good night!\n"
          ]
        }
      ]
    },
    {
      "cell_type": "markdown",
      "source": [
        "**【ファイルの保存と読み込み】**  \n",
        "with構文を用いて、ファイルの読み込みや保存を簡潔に記述することができます。\n",
        "\n",
        "with open(\"変数（文字列は事前に格納しとく）\",\"w\")as f:  \n",
        "\n",
        "    f.write(変数）のように書けば、\n",
        "    **テキストファイルを作成できる**"
      ],
      "metadata": {
        "id": "AzOvMrbseu3B"
      }
    }
  ]
}