{
  "nbformat": 4,
  "nbformat_minor": 0,
  "metadata": {
    "colab": {
      "name": "PythonPractice2.ipynb",
      "provenance": [],
      "authorship_tag": "ABX9TyPrUsF408Zd32H57PYCaGR6",
      "include_colab_link": true
    },
    "kernelspec": {
      "name": "python3",
      "display_name": "Python 3"
    },
    "language_info": {
      "name": "python"
    }
  },
  "cells": [
    {
      "cell_type": "markdown",
      "metadata": {
        "id": "view-in-github",
        "colab_type": "text"
      },
      "source": [
        "<a href=\"https://colab.research.google.com/github/RYOTA2528/PythonPractivce-on-AWS/blob/main/PythonPractice2.ipynb\" target=\"_parent\"><img src=\"https://colab.research.google.com/assets/colab-badge.svg\" alt=\"Open In Colab\"/></a>"
      ]
    },
    {
      "cell_type": "markdown",
      "source": [
        "**【Python学習　中級編】**\n",
        "\n",
        "**（項目）**  \n",
        "1.NumPyの配列  \n",
        "2.1次関数 と グラフ化  \n",
        "3.グラスの装飾方法  \n",
        "4.2次関数、3次関数\n",
        "\n"
      ],
      "metadata": {
        "id": "iFuFPtIs8xSU"
      }
    },
    {
      "cell_type": "code",
      "execution_count": 1,
      "metadata": {
        "colab": {
          "base_uri": "https://localhost:8080/"
        },
        "id": "vlC2_7iN7SVt",
        "outputId": "61c294e5-6b71-4bb4-808c-12bd3dc9e527"
      },
      "outputs": [
        {
          "output_type": "stream",
          "name": "stdout",
          "text": [
            "[0 1 2 3 4 5]\n"
          ]
        }
      ],
      "source": [
        "\"NumPyの配列について\"\n",
        "import numpy as np  # NumPyの導入。以降npという名前でNumPyを使用できる。\n",
        "\n",
        "a = [0, 1, 2, 3, 4, 5]\n",
        "b = np.array(a)  # リストからNumPyの配列を作る\n",
        "print(b)  #ちなみに配列を抽出するとき結果は数字と数字の間に,が入らない。"
      ]
    },
    {
      "cell_type": "markdown",
      "source": [
        "**【NumPyの配列】**  \n",
        "NumPyを使うことで、大量のデータを効率よく扱うことができます。\n",
        "また、NumPyは数学の計算に有用な多くの機能を持っています。\n",
        "NumPyの基本となるのは、多数の値が入った配列です。\n",
        "以下のコードは、リストから配列を作って表示します。"
      ],
      "metadata": {
        "id": "XyVeLyhf-5z9"
      }
    },
    {
      "cell_type": "code",
      "source": [
        "\"linspaceについて\"\n",
        "import numpy as np #(注意)importの場合、:は必要ない\n",
        "\n",
        "x = np.linspace(-5, 5) #linspace関数はxという配列を作る。\n",
        "\n",
        "print(x) #配列をそのまま表示する。\n",
        "print(len(x)) #lenで要素の数をプリントする。　結果は『50個に区切られてる』\n",
        "              # グラフのx軸としてよく使われる"
      ],
      "metadata": {
        "colab": {
          "base_uri": "https://localhost:8080/"
        },
        "id": "cNbovM9cCpZH",
        "outputId": "79885a4a-7000-497e-e954-e5224e23095b"
      },
      "execution_count": 2,
      "outputs": [
        {
          "output_type": "stream",
          "name": "stdout",
          "text": [
            "[-5.         -4.79591837 -4.59183673 -4.3877551  -4.18367347 -3.97959184\n",
            " -3.7755102  -3.57142857 -3.36734694 -3.16326531 -2.95918367 -2.75510204\n",
            " -2.55102041 -2.34693878 -2.14285714 -1.93877551 -1.73469388 -1.53061224\n",
            " -1.32653061 -1.12244898 -0.91836735 -0.71428571 -0.51020408 -0.30612245\n",
            " -0.10204082  0.10204082  0.30612245  0.51020408  0.71428571  0.91836735\n",
            "  1.12244898  1.32653061  1.53061224  1.73469388  1.93877551  2.14285714\n",
            "  2.34693878  2.55102041  2.75510204  2.95918367  3.16326531  3.36734694\n",
            "  3.57142857  3.7755102   3.97959184  4.18367347  4.3877551   4.59183673\n",
            "  4.79591837  5.        ]\n",
            "50\n"
          ]
        }
      ]
    },
    {
      "cell_type": "markdown",
      "source": [
        "**【linspace】**  \n",
        "NumPyのlinspaceにより、値が並んだ配列を作ることができます。\n",
        "linspace関数では範囲を指定し、\n",
        "その区間を標準で50に区切ります。"
      ],
      "metadata": {
        "id": "bb8cVK0OCpue"
      }
    }
  ]
}