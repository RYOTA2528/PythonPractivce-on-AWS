{
  "nbformat": 4,
  "nbformat_minor": 0,
  "metadata": {
    "colab": {
      "name": "PythonPractice2.ipynb",
      "provenance": [],
      "authorship_tag": "ABX9TyOaT04/YE1iHmmXzwxGb7KX",
      "include_colab_link": true
    },
    "kernelspec": {
      "name": "python3",
      "display_name": "Python 3"
    },
    "language_info": {
      "name": "python"
    }
  },
  "cells": [
    {
      "cell_type": "markdown",
      "metadata": {
        "id": "view-in-github",
        "colab_type": "text"
      },
      "source": [
        "<a href=\"https://colab.research.google.com/github/RYOTA2528/PythonPractivce-on-AWS/blob/main/PythonPractice2.ipynb\" target=\"_parent\"><img src=\"https://colab.research.google.com/assets/colab-badge.svg\" alt=\"Open In Colab\"/></a>"
      ]
    },
    {
      "cell_type": "markdown",
      "source": [
        "**【Python学習　中級編】**\n",
        "\n",
        "**（項目）**  \n",
        "1.NumPyの配列  \n",
        "2.1次関数 と グラフ化  \n",
        "3.グラスの装飾方法  \n",
        "4.2次関数、3次関数\n",
        "\n"
      ],
      "metadata": {
        "id": "iFuFPtIs8xSU"
      }
    },
    {
      "cell_type": "code",
      "execution_count": 1,
      "metadata": {
        "colab": {
          "base_uri": "https://localhost:8080/"
        },
        "id": "vlC2_7iN7SVt",
        "outputId": "61c294e5-6b71-4bb4-808c-12bd3dc9e527"
      },
      "outputs": [
        {
          "output_type": "stream",
          "name": "stdout",
          "text": [
            "[0 1 2 3 4 5]\n"
          ]
        }
      ],
      "source": [
        "\"NumPyの配列について\"\n",
        "import numpy as np  # NumPyの導入。以降npという名前でNumPyを使用できる。\n",
        "\n",
        "a = [0, 1, 2, 3, 4, 5]\n",
        "b = np.array(a)  # リストからNumPyの配列を作る\n",
        "print(b)  #ちなみに配列を抽出するとき結果は数字と数字の間に,が入らない。"
      ]
    },
    {
      "cell_type": "markdown",
      "source": [
        "**【NumPyの配列】**  \n",
        "NumPyを使うことで、大量のデータを効率よく扱うことができます。\n",
        "また、NumPyは数学の計算に有用な多くの機能を持っています。\n",
        "NumPyの基本となるのは、多数の値が入った配列です。\n",
        "以下のコードは、リストから配列を作って表示します。"
      ],
      "metadata": {
        "id": "XyVeLyhf-5z9"
      }
    },
    {
      "cell_type": "code",
      "source": [
        "\"linspaceについて\"\n",
        "import numpy as np #(注意)importの場合、:は必要ない\n",
        "\n",
        "x = np.linspace(-5, 5) #linspace関数はxという配列を作る。\n",
        "\n",
        "print(x) #配列をそのまま表示する。\n",
        "print(len(x)) #lenで要素の数をプリントする。　結果は『50個に区切られてる』\n",
        "              # グラフのx軸としてよく使われる"
      ],
      "metadata": {
        "colab": {
          "base_uri": "https://localhost:8080/"
        },
        "id": "cNbovM9cCpZH",
        "outputId": "79885a4a-7000-497e-e954-e5224e23095b"
      },
      "execution_count": 2,
      "outputs": [
        {
          "output_type": "stream",
          "name": "stdout",
          "text": [
            "[-5.         -4.79591837 -4.59183673 -4.3877551  -4.18367347 -3.97959184\n",
            " -3.7755102  -3.57142857 -3.36734694 -3.16326531 -2.95918367 -2.75510204\n",
            " -2.55102041 -2.34693878 -2.14285714 -1.93877551 -1.73469388 -1.53061224\n",
            " -1.32653061 -1.12244898 -0.91836735 -0.71428571 -0.51020408 -0.30612245\n",
            " -0.10204082  0.10204082  0.30612245  0.51020408  0.71428571  0.91836735\n",
            "  1.12244898  1.32653061  1.53061224  1.73469388  1.93877551  2.14285714\n",
            "  2.34693878  2.55102041  2.75510204  2.95918367  3.16326531  3.36734694\n",
            "  3.57142857  3.7755102   3.97959184  4.18367347  4.3877551   4.59183673\n",
            "  4.79591837  5.        ]\n",
            "50\n"
          ]
        }
      ]
    },
    {
      "cell_type": "markdown",
      "source": [
        "**【linspace】**  \n",
        "NumPyのlinspaceにより、値が並んだ配列を作ることができます。\n",
        "linspace関数では範囲を指定し、\n",
        "その区間を標準で50に区切ります。"
      ],
      "metadata": {
        "id": "bb8cVK0OCpue"
      }
    },
    {
      "cell_type": "code",
      "source": [
        "\"一次関数について\"\n",
        "#　y＝2x＋1　以下のコードは、xに2をかけて１を足してyの値を求めます。\n",
        "import numpy as np\n",
        "import matplotlib.pyplot as plt #matplotlib.pyplotをインポートし、pltという名前にした。\n",
        "\n",
        "x = np.linspace(-5, 5) #このlinspace関数を用いれば、-5から5までの範囲(全部で50分割)という意味にできる\n",
        "y = 2*x + 1\n",
        "\n",
        "plt.plot(x, y)   \n",
        "plt.show()  #ここまでが基本的な流れ"
      ],
      "metadata": {
        "colab": {
          "base_uri": "https://localhost:8080/",
          "height": 265
        },
        "id": "IgC_i-FspKJm",
        "outputId": "3afc7cde-f9aa-48cb-df34-3e0d10e01396"
      },
      "execution_count": 1,
      "outputs": [
        {
          "output_type": "display_data",
          "data": {
            "image/png": "[encoded data removed]",
            "text/plain": [
              "<Figure size 432x288 with 1 Axes>"
            ]
          },
          "metadata": {
            "needs_background": "light"
          }
        }
      ]
    },
    {
      "cell_type": "markdown",
      "source": [
        "**【グラフの描画】**  \n",
        "matplotlib（マットプロトリブ）のpyplot（パイプロット）によるグラフ作成を実施します。\n",
        "\n",
        "**【数式の書き方】**\n",
        "$$y=2x+1$$  \n",
        "$$で囲うことで数式とみなされるようになる。"
      ],
      "metadata": {
        "id": "SltxB41gpi9d"
      }
    },
    {
      "cell_type": "code",
      "source": [
        "import numpy as np\n",
        "import matplotlib.pyplot as plt\n",
        "\n",
        "x = np.linspace(-3, 3) #-3から3の間で50分割\n",
        "y_1 = 1.5*x\n",
        "y_2 = -2*x+1\n",
        "\n",
        "plt.xlabel(\"x value\", size = 14) #plt.xlavel(\"x 表示する名前\", size =○○)でラベルを作成\n",
        "plt.ylabel(\"y value\", size = 14)\n",
        "\n",
        "plt.title(\"My graph\") #plt.title(\"タイトル名\")でタイトルラベルを作成 \n",
        "\n",
        "plt.grid() #plt.grid() グリッド線を表してくれる\n",
        "\n",
        "plt.plot(x, y_1, label=\"y_1\") #plt.plot(x, y_1, label=\"y_1\")　label=\"\"を入れることでラベルの表示も可能\n",
        "plt.plot(x, y_2, label=\"y_2\", linestyle=\"dashed\") #linestyle=\"\"を入れることで、破線に変更可能\n",
        "\n",
        "plt.legend() #これで凡例の表示も可能。\n",
        "\n",
        "plt.show() #これでグラフを表示する。\n",
        "\n"
      ],
      "metadata": {
        "colab": {
          "base_uri": "https://localhost:8080/",
          "height": 299
        },
        "id": "XKgdsgVVyDOQ",
        "outputId": "9ec22deb-6d40-4a6f-e244-4e4b4277dd30"
      },
      "execution_count": 2,
      "outputs": [
        {
          "output_type": "display_data",
          "data": {
            "image/png": "[encoded data removed]",
            "text/plain": [
              "<Figure size 432x288 with 1 Axes>"
            ]
          },
          "metadata": {
            "needs_background": "light"
          }
        }
      ]
    },
    {
      "cell_type": "markdown",
      "source": [
        "**【グラフの装飾】**  \n",
        "matplotlibでは軸のラベル、タイトル、グリッド、凡例などを表示することもできる。  \n",
        "\n",
        "**（基本的な流れ）**  \n",
        "import numpy as ○○  \n",
        "import matplotlib.pyplot as ○○  \n",
        "でまずはNumpy配列とmatplotlibのpyplot(グラフツール)をインポートし  \n",
        "その後、  \n",
        "(ex)  \n",
        "x = np.linspace(-3, 3) #-3から3の間で50分割\n",
        "y_1 = 1.5*x\n",
        "y_2 = -2*x+1\n",
        "  などのように範囲と作りたいグラフの式を変数に置き換えてからスタート。\n",
        "\n",
        "①  plt.xlabel(\"x value\", size = 14) のようにすることで『ラベル』を作成できあｍす。  \n",
        "\n",
        "② plt.title(\"タイトル名\")でタイトルラベルを作成   \n",
        "\n",
        "③plt.grid() グリッド線を表してくれる  \n",
        "\n",
        "④plt.plot(x, y_2, label=\"y_2\", linestyle=\"dashed\")　と書くことで、グラフにlabelや破線を追加することも可能。\n",
        "\n",
        "⑤ plt.legend()　これで凡例の表示も可能。\n",
        "\n",
        "⑥.plt.show() これで最後表示させるのを忘れずに\n"
      ],
      "metadata": {
        "id": "yt8MipzByFSG"
      }
    }
  ]
}